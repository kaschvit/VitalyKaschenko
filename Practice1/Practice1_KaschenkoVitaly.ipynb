{
 "cells": [
  {
   "cell_type": "markdown",
   "id": "d2f8f15a-2bbe-48a1-899c-fee76ff50355",
   "metadata": {},
   "source": [
    "# Практическая работа #1\n",
    "## Тема: \"Основные возможности языка Python\"\n",
    "### Выполнил студент: Кащенко Виталий\n",
    "### Вариант: 10"
   ]
  },
  {
   "cell_type": "markdown",
   "id": "7d731bc3-804b-45a3-80c4-319f3c1ef72f",
   "metadata": {},
   "source": [
    "## Задание 1. Рассчеты арифметических выражений\n",
    "### Условие: "
   ]
  },
  {
   "cell_type": "markdown",
   "id": "0e088b8b-adce-4315-8213-27848c141294",
   "metadata": {},
   "source": [
    "$z=2y + \\frac{2 * 3a}{10x-3a} + 2 + \\Big(\\frac{\\frac{a+2}{y}}{\\frac{3a}{x}}\\Big) + 3d$"
   ]
  },
  {
   "cell_type": "code",
   "execution_count": 3,
   "id": "a7835908-5f16-45dd-848c-c88c914b8a90",
   "metadata": {},
   "outputs": [
    {
     "name": "stdin",
     "output_type": "stream",
     "text": [
      "Введите x =  2\n",
      "Введите y =  5\n",
      "Введите a =  2\n",
      "Введите d =  1\n"
     ]
    },
    {
     "name": "stdout",
     "output_type": "stream",
     "text": [
      "z =  16.123809523809527\n"
     ]
    }
   ],
   "source": [
    "x=float(input('Введите x = '))\n",
    "y=float(input('Введите y = '))\n",
    "a=float(input('Введите a = '))\n",
    "d=float(input('Введите d = '))\n",
    "z = 2*y + ((2*3*a)/(10*x-3*a))+2+((a+2)/y)/((3*a)/x)+3*d\n",
    "print('z = ',z)\n"
   ]
  },
  {
   "cell_type": "markdown",
   "id": "1cc877a4-e9d3-4bca-b748-3180de991483",
   "metadata": {},
   "source": [
    "## Задание 2. Рассчеты математических выражений\n",
    "### Условие: "
   ]
  },
  {
   "cell_type": "markdown",
   "id": "297a02dd-5571-4024-ba44-15a4ec99ecd6",
   "metadata": {},
   "source": [
    "$z = 2ctg(3x) - \\frac{ln cos x}{ln(1+x^2)}$"
   ]
  },
  {
   "cell_type": "code",
   "execution_count": 11,
   "id": "a0be84e9-b274-4a2e-9761-bdf6ade35e3d",
   "metadata": {},
   "outputs": [
    {
     "name": "stdin",
     "output_type": "stream",
     "text": [
      "Введите x =  6\n"
     ]
    },
    {
     "name": "stdout",
     "output_type": "stream",
     "text": [
      "z =  -1.7472737138111987\n"
     ]
    }
   ],
   "source": [
    "import math\n",
    "x=float(input('Введите x = '))\n",
    "z = 2*(1/math.tan(3*x)) - math.log(math.cos(x))/math.log(1+x*x)\n",
    "print('z = ', z)"
   ]
  },
  {
   "attachments": {
    "6428f52d-dd7e-49c1-b7dc-c59a6bec8138.png": {
     "image/png": "[encoded data removed]"
    }
   },
   "cell_type": "markdown",
   "id": "48309156-9765-487d-989a-9dc1af44d7e0",
   "metadata": {},
   "source": [
    "![image.png](attachment:6428f52d-dd7e-49c1-b7dc-c59a6bec8138.png)"
   ]
  },
  {
   "cell_type": "code",
   "execution_count": 14,
   "id": "dc7ef4fe-191f-4217-8ec2-c27704d999f8",
   "metadata": {},
   "outputs": [
    {
     "name": "stdin",
     "output_type": "stream",
     "text": [
      "Введите x =  7\n",
      "Введите y =  12\n"
     ]
    },
    {
     "name": "stdout",
     "output_type": "stream",
     "text": [
      "Находится\n"
     ]
    }
   ],
   "source": [
    "matrix = [[0,0,0,0,0,0,0,0,0,0,0,0,0,0,0],\n",
    "          [0,0,0,0,0,0,0,0,0,0,0,0,0,0,0],\n",
    "          [0,0,1,1,1,0,0,0,0,0,0,1,0,0,0],\n",
    "          [0,0,1,1,1,0,0,0,0,0,0,1,0,0,0],\n",
    "          [0,0,1,1,1,1,1,1,0,0,0,1,0,0,0],\n",
    "          [0,1,1,1,1,1,1,1,0,0,0,1,1,0,0],\n",
    "          [0,1,1,1,1,1,1,1,0,0,0,1,1,0,0],\n",
    "          [0,0,0,0,0,1,1,1,1,1,1,1,1,0,0],\n",
    "          [0,0,0,0,0,1,1,1,1,1,1,1,0,0,0],\n",
    "          [0,0,0,0,0,1,1,0,0,0,1,1,0,0,0],\n",
    "          [0,0,1,1,1,1,1,0,0,0,1,1,0,0,0],\n",
    "          [0,0,0,0,0,0,1,0,0,0,0,0,0,0,0],\n",
    "          [0,0,0,0,0,0,0,0,0,0,0,0,0,0,0],\n",
    "          [0,0,0,0,0,0,0,0,0,0,0,0,0,0,0],\n",
    "          [0,0,0,0,0,0,0,0,0,0,0,0,0,0,0]]\n",
    "x = int(input(\"Введите x = \"))\n",
    "y = int(input(\"Введите y = \"))\n",
    "if matrix[x-1][y-1] == 1:\n",
    "    print('Находится')\n",
    "else:\n",
    "    print('Не находится')\n"
   ]
  },
  {
   "cell_type": "markdown",
   "id": "29155a40-7a60-476b-b949-b2ff62ba3ba6",
   "metadata": {},
   "source": [
    "## Задание 4. Логические вычисления"
   ]
  },
  {
   "attachments": {
    "22095b36-f266-46e9-a14b-b4a7069b1694.png": {
     "image/png": "[encoded data removed]"
    }
   },
   "cell_type": "markdown",
   "id": "4fd89197-0644-4286-9a56-da76706fae1f",
   "metadata": {},
   "source": [
    "![image.png](attachment:22095b36-f266-46e9-a14b-b4a7069b1694.png)"
   ]
  },
  {
   "cell_type": "code",
   "execution_count": 37,
   "id": "a75b3a61-cd18-44bb-a37b-1ab7f96ef43c",
   "metadata": {},
   "outputs": [
    {
     "name": "stdin",
     "output_type": "stream",
     "text": [
      "Введите x =  1\n",
      "Введите y =  1\n"
     ]
    },
    {
     "name": "stdout",
     "output_type": "stream",
     "text": [
      "Находится\n"
     ]
    }
   ],
   "source": [
    "x = float(input('Введите x = '))\n",
    "y = float(input('Введите y = '))\n",
    "if (y<=pow(x,2))-2 and (-x <= y <= x):\n",
    "    print('Находится')\n",
    "else:\n",
    "    print('Не находится')\n"
   ]
  },
  {
   "attachments": {},
   "cell_type": "markdown",
   "id": "7c791eae-8da7-483b-aedd-71003160b331",
   "metadata": {},
   "source": [
    "## Задание 5. Вычисление циклических процессов"
   ]
  },
  {
   "cell_type": "markdown",
   "id": "6dc3d738-38cc-4f3c-921c-0adbaa774ce5",
   "metadata": {},
   "source": [
    "$f(x) = x + e^x + \\frac{sinx^5-x^3}{3^x}+\\frac{x^5}{5^x}$"
   ]
  },
  {
   "cell_type": "code",
   "execution_count": 60,
   "id": "b76d5e61-7fae-461f-b4b7-563c9f2f21cd",
   "metadata": {},
   "outputs": [
    {
     "name": "stdin",
     "output_type": "stream",
     "text": [
      "Введите x1 =  10\n",
      "Введите x2 =  20\n",
      "Введите S =  1\n"
     ]
    },
    {
     "name": "stdout",
     "output_type": "stream",
     "text": [
      "******************************************\n",
      "Результат:\n",
      "+---------------------+\n",
      "|  X  |       f(x)    |\n",
      "+---------------------+\n",
      "|10.00|       22036.46|\n",
      "|11.00|       59885.14|\n",
      "|12.00|      162766.79|\n",
      "|13.00|      442426.39|\n",
      "|14.00|     1202618.28|\n",
      "|15.00|     3269032.37|\n",
      "|16.00|     8886126.52|\n",
      "|17.00|    24154969.75|\n",
      "|18.00|    65659987.14|\n",
      "|19.00|   178482319.96|\n",
      "|20.00|   485165215.41|\n",
      "+---------------------+\n",
      "******************************************\n"
     ]
    }
   ],
   "source": [
    "import math\n",
    "x1 = int(input('Введите x1 = '))\n",
    "x2 = int(input('Введите x2 = '))\n",
    "S = float(input('Введите S = '))\n",
    "print('******************************************')\n",
    "print('Результат:')\n",
    "print('+---------------------+')\n",
    "print('|  X  |       f(x)    |')\n",
    "print('+---------------------+')\n",
    "while (x1 <=x2):\n",
    "    fx = x1 + pow(math.e, x1)+ ((math.sin(pow(x1,5)) - pow(x1, 3))/pow(3,x1)) + pow(x1, 5)/ pow(5,x1)\n",
    "    print('|{:5.2f}|{:15.2f}|'.format(x1,fx))\n",
    "    x1=x1+S\n",
    "print('+---------------------+')\n",
    "print('******************************************')\n",
    "\n",
    "\n",
    "\n",
    "    \n",
    "\n",
    "\n"
   ]
  },
  {
   "cell_type": "markdown",
   "id": "8eab4beb-6aab-477c-97ec-0cda0d9124d9",
   "metadata": {},
   "source": [
    "## Задание 6. Списки (одномерные массивы) в Python"
   ]
  },
  {
   "cell_type": "markdown",
   "id": "60bb5055-a443-48ce-9008-b04264246dfd",
   "metadata": {},
   "source": [
    "    Дан целочисленный одномерный массив на N элементов, заполненный случайными числами в заданном диапазоне (от n1 до n2) с чередованием куба предыдущего значения и случайным значением следующего значения. \r\n",
    "Найти минимальный элемент из его элементов с четными номерами от K до L включительн \r\n",
    "\r\n",
    "Произвести проверку на корректность ввода интервальных значений (n1<n2, K<L).\r\n"
   ]
  },
  {
   "cell_type": "code",
   "execution_count": null,
   "id": "aa6a6b7c-e249-42f1-a1d6-50ee40dfba57",
   "metadata": {},
   "outputs": [
    {
     "name": "stdout",
     "output_type": "stream",
     "text": [
      "******************************************\n"
     ]
    }
   ],
   "source": [
    "print('******************************************')\n",
    "N = int(input('Введите количество элементов N = '))\n",
    "while True:\n",
    "    n1 = int(input('Введите начало диапазона n1 = '))\n",
    "    n2 = int(input('Введите конец диапазона n2 = '))\n",
    "    if n1<n2:\n",
    "        break\n",
    "    else:\n",
    "        print('Неккоректный ввод данных (n1 больше n2). Попробуйте снова')\n",
    "print('******************************************')\n",
    "print('Сгенерированный одномерный массив')\n",
    "mass = [0]*N\n",
    "minnum = n2\n",
    "minelement = N\n",
    "import random\n",
    "for i in range(len(mass)):\n",
    "    if i%2 ==0:\n",
    "        mass[i] = random.randrange(n1,n2)\n",
    "    else:\n",
    "        mass[i]=pow(mass[i-1],3)\n",
    "    print(i,') ', mass[i])\n",
    "    print()\n",
    "print('******************************************')\n",
    "while True:\n",
    "    K = int(input('Введите число K = '))\n",
    "    L = int(input('Введите число L = '))\n",
    "    if K<L:\n",
    "        break\n",
    "    else:\n",
    "        print('Неккоректный ввод данных (k больше l). Попробуйте снова')\n",
    "for i in range(len(mass)):\n",
    "    if i%2 == 0 and K <= i <= L:\n",
    "        if mass[i] < minnum:\n",
    "            minnum = mass[i] \n",
    "            minelement = i\n",
    "print(f'Минимальный элемент \"{minelement}\" с числом \"{minnum}\" в диапазоне четных элементов  [{K} ;  {L}]')\n",
    "          \n",
    "    "
   ]
  },
  {
   "cell_type": "markdown",
   "id": "18509cd6-fe35-4fc7-b404-8403556931ce",
   "metadata": {},
   "source": [
    "## Задание 6. Двумерные массивы (матрицы) в Python"
   ]
  },
  {
   "cell_type": "markdown",
   "id": "2fc52b33-a4dc-46c0-b128-ce9e01139d8f",
   "metadata": {},
   "source": [
    "\n",
    "Дан целочисленный двумерный массив N на M элементов, заполненный случайными числами в заданном диапазоне (от n1 до n2) с чередованием куба предыдущего значения и случайным значением следующего значения в строках.\n",
    "\n",
    "Найти минимальный элемент из его элементов с чётными номерами от K до L включительно в заданном столбце С.\n",
    "\n",
    "Произвести проверку на корректность ввода интервальных значений (n1<n2, K<L, С и т.д.).\n"
   ]
  },
  {
   "cell_type": "code",
   "execution_count": 1,
   "id": "3a80b35b-e8c0-424d-833a-ead660aa6173",
   "metadata": {},
   "outputs": [
    {
     "name": "stdout",
     "output_type": "stream",
     "text": [
      "******************************************\n"
     ]
    },
    {
     "name": "stdin",
     "output_type": "stream",
     "text": [
      "Введите количество строк N =  10\n",
      "Введите количество столбцов M =  10\n",
      "Введите начало диапазона n1 =  1\n",
      "Введите конец диапазона n2 =  10\n"
     ]
    },
    {
     "name": "stdout",
     "output_type": "stream",
     "text": [
      "******************************************\n",
      "Сгенерированный одномерный массив\n",
      "    9   729     2     8     9   729     4    64     7   343 \n",
      "    7   343     3    27     2     8     1     1     6   216 \n",
      "    3    27     1     1     2     8     3    27     6   216 \n",
      "    4    64     1     1     8   512     3    27     1     1 \n",
      "    7   343     5   125     9   729     6   216     2     8 \n",
      "    5   125     7   343     9   729     5   125     9   729 \n",
      "    9   729     7   343     4    64     8   512     7   343 \n",
      "    6   216     7   343     6   216     7   343     2     8 \n",
      "    4    64     5   125     8   512     2     8     5   125 \n",
      "    8   512     1     1     8   512     7   343     8   512 \n",
      "******************************************\n"
     ]
    },
    {
     "name": "stdin",
     "output_type": "stream",
     "text": [
      "Введите число K =  0\n",
      "Введите число L =  8\n",
      "Введите строку C =  5\n"
     ]
    },
    {
     "name": "stdout",
     "output_type": "stream",
     "text": [
      "Минимальный элемент \"2\" с числом \"8\" в диапазоне четных элементов  [0 ;  8] в строке 5\n"
     ]
    }
   ],
   "source": [
    "print('******************************************')\n",
    "\n",
    "N = int(input('Введите количество строк N = '))\n",
    "M = int(input('Введите количество столбцов M = '))\n",
    "while True:\n",
    "    n1 = int(input('Введите начало диапазона n1 = '))\n",
    "    n2 = int(input('Введите конец диапазона n2 = '))\n",
    "    if n1<n2:\n",
    "        break\n",
    "    else:\n",
    "        print('Неккоректный ввод данных (n1 больше n2). Попробуйте снова')\n",
    "print('******************************************')\n",
    "print('Сгенерированный одномерный массив')\n",
    "minnum = n2\n",
    "minelement = N\n",
    "mass = range(N)\n",
    "mass=[0]*N\n",
    "import random\n",
    "for i in range(N):\n",
    "    mass[i] = [0]*M\n",
    "    for j in range(M):\n",
    "        if j%2 == 0:\n",
    "            mass[i][j] = random.randrange(n1,n2)\n",
    "        else:\n",
    "            mass[i][j]=pow(mass[i][j-1], 3)\n",
    "        print('{:5d}' .format(mass[i][j]), end = ' ')\n",
    "    print()\n",
    "    \n",
    "print('******************************************')\n",
    "while True:\n",
    "    K = int(input('Введите число K = '))\n",
    "    L = int(input('Введите число L = '))\n",
    "    C = int(input('Введите строку C = '))\n",
    "    if K<L:\n",
    "        break\n",
    "    else:\n",
    "        print('Неккоректный ввод данных (k больше l). Попробуйте снова')\n",
    "for i in range(len(mass)):\n",
    "    for j  in range(len(mass[i])):\n",
    "        if i%2 == 0 and K <= i <= L and j == C:\n",
    "            if mass[i][j] < minnum:\n",
    "                minnum = mass[i][j] \n",
    "                minelement = i\n",
    "print(f'Минимальный элемент \"{minelement}\" с числом \"{minnum}\" в диапазоне четных элементов  [{K} ;  {L}] в строке {C}')\n",
    "          \n",
    "    "
   ]
  },
  {
   "cell_type": "code",
   "execution_count": null,
   "id": "c707364a-c5d2-4790-a551-f0b0f8755630",
   "metadata": {},
   "outputs": [],
   "source": []
  }
 ],
 "metadata": {
  "kernelspec": {
   "display_name": "Python 3 (ipykernel)",
   "language": "python",
   "name": "python3"
  },
  "language_info": {
   "codemirror_mode": {
    "name": "ipython",
    "version": 3
   },
   "file_extension": ".py",
   "mimetype": "text/x-python",
   "name": "python",
   "nbconvert_exporter": "python",
   "pygments_lexer": "ipython3",
   "version": "3.11.7"
  }
 },
 "nbformat": 4,
 "nbformat_minor": 5
}
