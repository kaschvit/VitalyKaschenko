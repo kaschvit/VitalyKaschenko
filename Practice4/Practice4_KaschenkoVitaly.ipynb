{
 "cells": [
  {
   "cell_type": "markdown",
   "id": "42ff9b22-d9c8-4e7b-8b4b-e301c812e591",
   "metadata": {},
   "source": [
    "#### Практическая работа №4"
   ]
  },
  {
   "cell_type": "markdown",
   "id": "8020db7b-d142-4662-8b72-efc849f871a4",
   "metadata": {},
   "source": [
    "## Тема: \"Линейная регрессия\""
   ]
  },
  {
   "cell_type": "markdown",
   "id": "8f2d7192-7308-4c9c-af07-1df1c7e590f0",
   "metadata": {},
   "source": [
    "### Выполнил студент: Кащенко Виталий"
   ]
  },
  {
   "cell_type": "markdown",
   "id": "4481ce97-6849-46fb-9cb5-8a2f40bbdca2",
   "metadata": {},
   "source": [
    "#### Вариант: 9"
   ]
  },
  {
   "cell_type": "markdown",
   "id": "d4a85af1-4d28-4fca-9764-032316bbe56b",
   "metadata": {},
   "source": [
    "#### Задание 1. Загрузить данные из dataset \"Титаник\"\n"
   ]
  },
  {
   "cell_type": "code",
   "execution_count": 1,
   "id": "ab43dd42-bbb4-4ff9-a904-80afb2dfce91",
   "metadata": {},
   "outputs": [],
   "source": [
    "import pandas as pd\n",
    "url = 'https://raw.githubusercontent.com/datasciencedojo/datasets/master/titanic.csv'\n",
    "df = pd.read_csv(url)\n"
   ]
  },
  {
   "cell_type": "markdown",
   "id": "55453d0f-6a96-4996-8584-073c3d4b7b5e",
   "metadata": {},
   "source": [
    "#### Задание 2. Произвести предобработку данных dataset \"Титаник\" и сохранить результаты каждый в отдельный датафрейм\n"
   ]
  },
  {
   "cell_type": "code",
   "execution_count": 2,
   "id": "d932f18b-34bf-4cc7-9937-fe44543e4c87",
   "metadata": {},
   "outputs": [],
   "source": [
    "df_del = df.dropna()\n",
    "\n",
    "df_num = df.fillna(20)\n",
    "\n",
    "df_mean_col = df.copy()\n",
    "df_mean = df.copy()\n",
    "for i in range(df.shape[1]):\n",
    "    if (df_mean.iloc[:,i].dtypes) != 'object':\n",
    "        df_mean.iloc[:,i].fillna(df_mean.iloc[:,i].mean(), inplace = True)\n",
    "    else:\n",
    "        df_mean_col = df_mean.iloc[:,i].value_counts(normalize = True).to_frame()\n",
    "        a = df_mean_col['proportion'].mean()\n",
    "        mindef = min(df_mean_col['proportion'], key=lambda x: abs(x - a)) \n",
    "        idx = df_mean_col[df_mean_col['proportion'] == mindef].index[0]\n",
    "        df_mean.iloc[:,i].fillna(idx, inplace = True)\n",
    "del df_mean_col\n",
    "\n",
    "df_median_col = df.copy()\n",
    "df_median = df.copy()\n",
    "for i in range(df.shape[1]):\n",
    "    if (df_median.iloc[:,i].dtypes) != 'object':\n",
    "        df_median.iloc[:,i].fillna(df_median.iloc[:,i].median(), inplace = True)\n",
    "    else:\n",
    "        df_median_col = df_median.iloc[:,i].value_counts().to_frame()\n",
    "        a = df_median_col['count'].median()\n",
    "        mindef = min(df_median_col['count'], key=lambda x: abs(x - a)) \n",
    "        idx = df_median_col[df_median_col['count'] == mindef].index[0]\n",
    "        df_median.iloc[:,i].fillna(idx, inplace = True)\n",
    "del df_median_col\n",
    "\n",
    "df_fb_fill = df.copy()\n",
    "for i in range(df.shape[0]):\n",
    "    for j in range(df.shape[1]):\n",
    "        if pd.isnull(df_fb_fill.iloc[i,j]):\n",
    "            if i != 0:\n",
    "                df_fb_fill.iloc[i,j] = df_fb_fill.iloc[i-1,j]\n",
    "            else:   \n",
    "                df_fb_fill.iloc[i,j] = df_fb_fill.iloc[i+1,j]\n",
    "del df        "
   ]
  },
  {
   "cell_type": "markdown",
   "id": "001d57d3-6bdc-411a-afe1-12ce124722c1",
   "metadata": {},
   "source": [
    "\n",
    "#### Задание 4. Произвести оценку обученности модели разными метриками\n"
   ]
  },
  {
   "cell_type": "code",
   "execution_count": 3,
   "id": "3eeec38a-b27e-43bd-9e84-9d796b3c8441",
   "metadata": {},
   "outputs": [
    {
     "name": "stdout",
     "output_type": "stream",
     "text": [
      "Коэффициенты модели: [-0.0023403  -0.01318738]\n",
      "Свободный член модели: 1.8539634505388665\n",
      "Mean Squared Error: 0.1336451352461853\n",
      "R2 Score: 0.15712957923549897\n"
     ]
    }
   ],
   "source": [
    "from sklearn.linear_model import LinearRegression\n",
    "from sklearn.model_selection import train_test_split\n",
    "import numpy as np\n",
    "from sklearn.metrics import accuracy_score, recall_score, f1_score, mean_squared_error, r2_score\n",
    "import warnings\n",
    "warnings.filterwarnings('ignore')\n",
    "X = df_del[['Fare', 'Age']]\n",
    "Y = df_del['Pclass']\n",
    "X_train, X_test, Y_train, Y_test = train_test_split(X,Y, test_size = 0.33, random_state = 0)\n",
    "model = LinearRegression()\n",
    "model.fit(X_train, Y_train)\n",
    "y_pred = model.predict(X_test)\n",
    "print(\"Коэффициенты модели:\", model.coef_)\n",
    "print(\"Свободный член модели:\", model.intercept_)\n",
    "mse = mean_squared_error(Y_test, y_pred)\n",
    "r2 = r2_score(Y_test, y_pred)\n",
    "\n",
    "print(f\"Mean Squared Error: {mse}\")\n",
    "print(f\"R2 Score: {r2}\")\n",
    "\n",
    "\n"
   ]
  },
  {
   "cell_type": "markdown",
   "id": "f39fcfc1-dc16-464c-904d-1689ddc35e30",
   "metadata": {
    "scrolled": true
   },
   "source": [
    "#### Задание 5. Определить наиболее эффективную метрику\r\n",
    "\n"
   ]
  },
  {
   "cell_type": "code",
   "execution_count": null,
   "id": "1f0c4a6e-d274-4da9-8b7c-c9a8ea5be7c8",
   "metadata": {
    "scrolled": true
   },
   "outputs": [],
   "source": []
  },
  {
   "cell_type": "markdown",
   "id": "650fd76a-a49a-4e35-940b-18aaa3ac923f",
   "metadata": {},
   "source": [
    "#### Задание 6. Загрузить ваш dataset и произвести его описание\n"
   ]
  },
  {
   "cell_type": "code",
   "execution_count": 5,
   "id": "9ac3619e-227b-4a33-8c14-f179856adbaa",
   "metadata": {},
   "outputs": [],
   "source": [
    "mydf = pd.read_csv('crypto-markets.csv', sep = ',')\n"
   ]
  },
  {
   "cell_type": "markdown",
   "id": "35f22c4d-568a-46f4-8e70-56e4390142dc",
   "metadata": {},
   "source": [
    "##### Вся историческая информация об открытии, максимуме, минимуме, закрытии, объеме торгов и рыночной капитализации для всех криптовалют.\r\n",
    "\n",
    "\n"
   ]
  },
  {
   "cell_type": "code",
   "execution_count": 6,
   "id": "72d817e4-0018-411c-ba88-9ccde8acd0e1",
   "metadata": {},
   "outputs": [
    {
     "data": {
      "text/html": [
       "<div>\n",
       "<style scoped>\n",
       "    .dataframe tbody tr th:only-of-type {\n",
       "        vertical-align: middle;\n",
       "    }\n",
       "\n",
       "    .dataframe tbody tr th {\n",
       "        vertical-align: top;\n",
       "    }\n",
       "\n",
       "    .dataframe thead th {\n",
       "        text-align: right;\n",
       "    }\n",
       "</style>\n",
       "<table border=\"1\" class=\"dataframe\">\n",
       "  <thead>\n",
       "    <tr style=\"text-align: right;\">\n",
       "      <th></th>\n",
       "      <th>slug</th>\n",
       "      <th>symbol</th>\n",
       "      <th>name</th>\n",
       "      <th>date</th>\n",
       "      <th>ranknow</th>\n",
       "      <th>open</th>\n",
       "      <th>high</th>\n",
       "      <th>low</th>\n",
       "      <th>close</th>\n",
       "      <th>volume</th>\n",
       "      <th>market</th>\n",
       "      <th>close_ratio</th>\n",
       "      <th>spread</th>\n",
       "    </tr>\n",
       "  </thead>\n",
       "  <tbody>\n",
       "    <tr>\n",
       "      <th>0</th>\n",
       "      <td>bitcoin</td>\n",
       "      <td>BTC</td>\n",
       "      <td>Bitcoin</td>\n",
       "      <td>2013-04-28</td>\n",
       "      <td>1</td>\n",
       "      <td>135.30</td>\n",
       "      <td>135.98</td>\n",
       "      <td>132.10</td>\n",
       "      <td>134.21</td>\n",
       "      <td>0.0</td>\n",
       "      <td>1.488567e+09</td>\n",
       "      <td>0.5438</td>\n",
       "      <td>3.88</td>\n",
       "    </tr>\n",
       "    <tr>\n",
       "      <th>1</th>\n",
       "      <td>bitcoin</td>\n",
       "      <td>BTC</td>\n",
       "      <td>Bitcoin</td>\n",
       "      <td>2013-04-29</td>\n",
       "      <td>1</td>\n",
       "      <td>134.44</td>\n",
       "      <td>147.49</td>\n",
       "      <td>134.00</td>\n",
       "      <td>144.54</td>\n",
       "      <td>0.0</td>\n",
       "      <td>1.603769e+09</td>\n",
       "      <td>0.7813</td>\n",
       "      <td>13.49</td>\n",
       "    </tr>\n",
       "    <tr>\n",
       "      <th>2</th>\n",
       "      <td>bitcoin</td>\n",
       "      <td>BTC</td>\n",
       "      <td>Bitcoin</td>\n",
       "      <td>2013-04-30</td>\n",
       "      <td>1</td>\n",
       "      <td>144.00</td>\n",
       "      <td>146.93</td>\n",
       "      <td>134.05</td>\n",
       "      <td>139.00</td>\n",
       "      <td>0.0</td>\n",
       "      <td>1.542813e+09</td>\n",
       "      <td>0.3843</td>\n",
       "      <td>12.88</td>\n",
       "    </tr>\n",
       "    <tr>\n",
       "      <th>3</th>\n",
       "      <td>bitcoin</td>\n",
       "      <td>BTC</td>\n",
       "      <td>Bitcoin</td>\n",
       "      <td>2013-05-01</td>\n",
       "      <td>1</td>\n",
       "      <td>139.00</td>\n",
       "      <td>139.89</td>\n",
       "      <td>107.72</td>\n",
       "      <td>116.99</td>\n",
       "      <td>0.0</td>\n",
       "      <td>1.298955e+09</td>\n",
       "      <td>0.2882</td>\n",
       "      <td>32.17</td>\n",
       "    </tr>\n",
       "    <tr>\n",
       "      <th>4</th>\n",
       "      <td>bitcoin</td>\n",
       "      <td>BTC</td>\n",
       "      <td>Bitcoin</td>\n",
       "      <td>2013-05-02</td>\n",
       "      <td>1</td>\n",
       "      <td>116.38</td>\n",
       "      <td>125.60</td>\n",
       "      <td>92.28</td>\n",
       "      <td>105.21</td>\n",
       "      <td>0.0</td>\n",
       "      <td>1.168517e+09</td>\n",
       "      <td>0.3881</td>\n",
       "      <td>33.32</td>\n",
       "    </tr>\n",
       "  </tbody>\n",
       "</table>\n",
       "</div>"
      ],
      "text/plain": [
       "      slug symbol     name        date  ranknow    open    high     low  \\\n",
       "0  bitcoin    BTC  Bitcoin  2013-04-28        1  135.30  135.98  132.10   \n",
       "1  bitcoin    BTC  Bitcoin  2013-04-29        1  134.44  147.49  134.00   \n",
       "2  bitcoin    BTC  Bitcoin  2013-04-30        1  144.00  146.93  134.05   \n",
       "3  bitcoin    BTC  Bitcoin  2013-05-01        1  139.00  139.89  107.72   \n",
       "4  bitcoin    BTC  Bitcoin  2013-05-02        1  116.38  125.60   92.28   \n",
       "\n",
       "    close  volume        market  close_ratio  spread  \n",
       "0  134.21     0.0  1.488567e+09       0.5438    3.88  \n",
       "1  144.54     0.0  1.603769e+09       0.7813   13.49  \n",
       "2  139.00     0.0  1.542813e+09       0.3843   12.88  \n",
       "3  116.99     0.0  1.298955e+09       0.2882   32.17  \n",
       "4  105.21     0.0  1.168517e+09       0.3881   33.32  "
      ]
     },
     "execution_count": 6,
     "metadata": {},
     "output_type": "execute_result"
    }
   ],
   "source": [
    "mydf.head()"
   ]
  },
  {
   "cell_type": "markdown",
   "id": "fe30da70-038a-4092-8ff5-072dba9bdba4",
   "metadata": {},
   "source": [
    "#### Задание 7. Произвести предобработку вашего dataset и сохранить результаты каждый в отдельный датафрейм\n"
   ]
  },
  {
   "cell_type": "code",
   "execution_count": 9,
   "id": "942f8975-1fb0-4c90-9fed-1d04819c867e",
   "metadata": {},
   "outputs": [
    {
     "ename": "NameError",
     "evalue": "name 'mydf' is not defined",
     "output_type": "error",
     "traceback": [
      "\u001b[1;31m---------------------------------------------------------------------------\u001b[0m",
      "\u001b[1;31mNameError\u001b[0m                                 Traceback (most recent call last)",
      "Cell \u001b[1;32mIn[9], line 1\u001b[0m\n\u001b[1;32m----> 1\u001b[0m mydf_del \u001b[38;5;241m=\u001b[39m mydf\u001b[38;5;241m.\u001b[39mdropna()\n\u001b[0;32m      3\u001b[0m mydf_num \u001b[38;5;241m=\u001b[39m mydf\u001b[38;5;241m.\u001b[39mfillna(\u001b[38;5;241m20\u001b[39m)\n\u001b[0;32m      5\u001b[0m mydf_mean_col \u001b[38;5;241m=\u001b[39m mydf\u001b[38;5;241m.\u001b[39mcopy()\n",
      "\u001b[1;31mNameError\u001b[0m: name 'mydf' is not defined"
     ]
    }
   ],
   "source": [
    "mydf_del = mydf.dropna()\n",
    "\n",
    "mydf_num = mydf.fillna(20)\n",
    "\n",
    "mydf_mean_col = mydf.copy()\n",
    "mydf_mean = mydf.copy()\n",
    "for i in range(mydf.shape[1]):\n",
    "    if (mydf_mean.iloc[:,i].dtypes) != 'object':\n",
    "        mydf_mean.iloc[:,i].fillna(mydf_mean.iloc[:,i].mean(), inplace = True)\n",
    "    else:\n",
    "        mydf_mean_col = mydf_mean.iloc[:,i].value_counts(normalize = True).to_frame()\n",
    "        a = mydf_mean_col['proportion'].mean()\n",
    "        mindef = min(mydf_mean_col['proportion'], key=lambda x: abs(x - a)) \n",
    "        idx = mydf_mean_col[mydf_mean_col['proportion'] == mindef].index[0]\n",
    "        mydf_mean.iloc[:,i].fillna(idx, inplace = True)\n",
    "del mydf_mean_col\n",
    "\n",
    "mydf_median_col = mydf.copy()\n",
    "mydf_median = mydf.copy()\n",
    "for i in range(mydf.shape[1]):\n",
    "    if (mydf_median.iloc[:,i].dtypes) != 'object':\n",
    "        mydf_median.iloc[:,i].fillna(mydf_median.iloc[:,i].median(), inplace = True)\n",
    "    else:\n",
    "        mydf_median_col = mydf_median.iloc[:,i].value_counts().to_frame()\n",
    "        a = mydf_median_col['count'].median()\n",
    "        mindef = min(mydf_median_col['count'], key=lambda x: abs(x - a)) \n",
    "        idx = mydf_median_col[mydf_median_col['count'] == mindef].index[0]\n",
    "        mydf_median.iloc[:,i].fillna(idx, inplace = True)\n",
    "del mydf_median_col\n",
    "mydf_fb_fill = mydf.copy()\n",
    "for i in range(mydf.shape[0]):\n",
    "    for j in range(mydf.shape[1]):\n",
    "        if pd.isnull(mydf_fb_fill.iloc[i,j]):\n",
    "            if i != 0:\n",
    "                mydf_fb_fill.iloc[i,j] = mydf_fb_fill.iloc[i-1,j]\n",
    "            else:   \n",
    "                mydf_fb_fill.iloc[i,j] = mydf_fb_fill.iloc[i+1,j]\n",
    "del mydf        "
   ]
  },
  {
   "cell_type": "code",
   "execution_count": null,
   "id": "0ca569c7-27ea-4ec2-bae0-3add99015d18",
   "metadata": {},
   "outputs": [],
   "source": []
  }
 ],
 "metadata": {
  "kernelspec": {
   "display_name": "Python 3 (ipykernel)",
   "language": "python",
   "name": "python3"
  },
  "language_info": {
   "codemirror_mode": {
    "name": "ipython",
    "version": 3
   },
   "file_extension": ".py",
   "mimetype": "text/x-python",
   "name": "python",
   "nbconvert_exporter": "python",
   "pygments_lexer": "ipython3",
   "version": "3.11.7"
  }
 },
 "nbformat": 4,
 "nbformat_minor": 5
}
