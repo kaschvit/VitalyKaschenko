{
 "cells": [
  {
   "cell_type": "markdown",
   "id": "42ff9b22-d9c8-4e7b-8b4b-e301c812e591",
   "metadata": {},
   "source": [
    "# Практическая работа №5"
   ]
  },
  {
   "cell_type": "markdown",
   "id": "8020db7b-d142-4662-8b72-efc849f871a4",
   "metadata": {},
   "source": [
    "## Тема: \"Логическая регрессия\""
   ]
  },
  {
   "cell_type": "markdown",
   "id": "8f2d7192-7308-4c9c-af07-1df1c7e590f0",
   "metadata": {},
   "source": [
    "### Выполнил студент: Кащенко Виталий"
   ]
  },
  {
   "cell_type": "markdown",
   "id": "4481ce97-6849-46fb-9cb5-8a2f40bbdca2",
   "metadata": {},
   "source": [
    "#### Вариант: 9 [Wine Quality Red](https://github.com/kaschvit/VitalyKaschenko/blob/main/Practice5/winequality-red.csv)"
   ]
  },
  {
   "cell_type": "markdown",
   "id": "9e07791c-4ab1-4609-8596-8ef19c0fa610",
   "metadata": {},
   "source": [
    "#### Задание 1. Загрузить данные из dataset \"Титаник\"\n"
   ]
  },
  {
   "cell_type": "code",
   "execution_count": 32,
   "id": "cfe7798a-9f08-4314-8e31-b7fce8f972ca",
   "metadata": {},
   "outputs": [],
   "source": [
    "import pandas as pd\n",
    "url = 'https://raw.githubusercontent.com/datasciencedojo/datasets/master/titanic.csv'\n",
    "df = pd.read_csv(url)\n"
   ]
  },
  {
   "cell_type": "markdown",
   "id": "594f13fd-23dd-41b4-ab15-e481eb7a38ea",
   "metadata": {},
   "source": [
    "#### Задание 2. Произвести предобработку данных dataset \"Титаник\" и сохранить результаты каждый в отдельный датафрейм\n"
   ]
  },
  {
   "cell_type": "code",
   "execution_count": 33,
   "id": "3f91b46d-1c24-4ffa-b3eb-5ec024d1fa5e",
   "metadata": {},
   "outputs": [],
   "source": [
    "df_del = df.dropna()\n",
    "\n",
    "df_num = df.fillna(20)\n",
    "\n",
    "df_mean_col = df.copy()\n",
    "df_mean = df.copy()\n",
    "for i in range(df.shape[1]):\n",
    "    if (df_mean.iloc[:,i].dtypes) != 'object':\n",
    "        df_mean.iloc[:,i].fillna(df_mean.iloc[:,i].mean(), inplace = True)\n",
    "    else:\n",
    "        df_mean_col = df_mean.iloc[:,i].value_counts(normalize = True).to_frame()\n",
    "        a = df_mean_col['proportion'].mean()\n",
    "        mindef = min(df_mean_col['proportion'], key=lambda x: abs(x - a)) \n",
    "        idx = df_mean_col[df_mean_col['proportion'] == mindef].index[0]\n",
    "        df_mean.iloc[:,i].fillna(idx, inplace = True)\n",
    "del df_mean_col\n",
    "\n",
    "df_median_col = df.copy()\n",
    "df_median = df.copy()\n",
    "for i in range(df.shape[1]):\n",
    "    if (df_median.iloc[:,i].dtypes) != 'object':\n",
    "        df_median.iloc[:,i].fillna(df_median.iloc[:,i].median(), inplace = True)\n",
    "    else:\n",
    "        df_median_col = df_median.iloc[:,i].value_counts().to_frame()\n",
    "        a = df_median_col['count'].median()\n",
    "        mindef = min(df_median_col['count'], key=lambda x: abs(x - a)) \n",
    "        idx = df_median_col[df_median_col['count'] == mindef].index[0]\n",
    "        df_median.iloc[:,i].fillna(idx, inplace = True)\n",
    "del df_median_col\n",
    "\n",
    "df_fb_fill = df.copy()\n",
    "for i in range(df.shape[0]):\n",
    "    for j in range(df.shape[1]):\n",
    "        if pd.isnull(df_fb_fill.iloc[i,j]):\n",
    "            if i != 0:\n",
    "                df_fb_fill.iloc[i,j] = df_fb_fill.iloc[i-1,j]\n",
    "            else:   \n",
    "                df_fb_fill.iloc[i,j] = df_fb_fill.iloc[i+1,j]\n",
    "del df        "
   ]
  },
  {
   "cell_type": "markdown",
   "id": "e15a20e1-3919-406f-a235-30933af65c80",
   "metadata": {},
   "source": [
    "#### Задание 3. Приметить к каждому датафрейму алгоритм логистической регресси\n"
   ]
  },
  {
   "cell_type": "code",
   "execution_count": 43,
   "id": "7f765903-d9f1-41ba-8f26-1389811713c1",
   "metadata": {},
   "outputs": [],
   "source": [
    "import numpy as np\n",
    "from sklearn.model_selection import train_test_split\n",
    "from sklearn.linear_model import LogisticRegression\n",
    "from sklearn.metrics import accuracy_score, classification_report\n",
    "from sklearn.preprocessing import StandardScaler\n",
    "import seaborn as sns\n",
    "\n",
    "df_del_25 = df_del[df_del['Age'] == 25]\n",
    "X_del = df_del_25[['Pclass', 'Sex', 'Embarked']]\n",
    "y_del = df_del_25['Survived']\n",
    "X_del.loc[:, 'Sex'] = X_del['Sex'].map({'male': 0, 'female': 1})\n",
    "X_del.loc[:, 'Embarked'] = X_del['Embarked'].map({'S': 0, 'C': 1, 'Q': 2})\n",
    "\n",
    "X_del_train, X_del_test, y_del_train, y_del_test = train_test_split(X_del, y_del, test_size=0.2, random_state=42)\n",
    "model = LogisticRegression()\n",
    "model.fit(X_del_train, y_del_train)\n",
    "y_del_pred = model.predict(X_del_test)\n",
    "\n",
    "df_num_25 = df_num[df_num['Age'] == 25]\n",
    "X_num = df_num_25[['Pclass', 'Sex', 'Embarked']]\n",
    "y_num = df_num_25['Survived']\n",
    "X_num.loc[:, 'Sex'] = X_num['Sex'].map({'male': 0, 'female': 1})\n",
    "X_num.loc[:, 'Embarked'] = X_num['Embarked'].map({'S': 0, 'C': 1, 'Q': 2})\n",
    "X_num_train, X_num_test, y_num_train, y_num_test = train_test_split(X_num, y_num, test_size=0.2, random_state=42)\n",
    "model = LogisticRegression()\n",
    "model.fit(X_num_train, y_num_train)\n",
    "y_num_pred = model.predict(X_num_test)\n",
    "\n",
    "df_mean_25 = df_mean[df_mean['Age'] == 25]\n",
    "X_mean = df_mean_25[['Pclass', 'Sex', 'Embarked']]\n",
    "y_mean = df_mean_25['Survived']\n",
    "X_mean.loc[:, 'Sex'] = X_mean['Sex'].map({'male': 0, 'female': 1})\n",
    "X_mean.loc[:, 'Embarked'] = X_mean['Embarked'].map({'S': 0, 'C': 1, 'Q': 2})\n",
    "X_mean_train, X_mean_test, y_mean_train, y_mean_test = train_test_split(X_mean, y_mean, test_size=0.2, random_state=42)\n",
    "model = LogisticRegression()\n",
    "model.fit(X_mean_train, y_mean_train)\n",
    "y_mean_pred = model.predict(X_mean_test)\n",
    "\n",
    "df_median_25 = df_median[df_median['Age'] == 25]\n",
    "X_median = df_median_25[['Pclass', 'Sex', 'Embarked']]\n",
    "y_median = df_median_25['Survived']\n",
    "X_median.loc[:, 'Sex'] = X_median['Sex'].map({'male': 0, 'female': 1})\n",
    "X_median.loc[:, 'Embarked'] = X_median['Embarked'].map({'S': 0, 'C': 1, 'Q': 2})\n",
    "X_median_train, X_median_test, y_median_train, y_median_test = train_test_split(X_median, y_median, test_size=0.2, random_state=42)\n",
    "model = LogisticRegression()\n",
    "model.fit(X_median_train, y_median_train)\n",
    "y_median_pred = model.predict(X_median_test)\n",
    "\n",
    "df_fb_fill_25 = df_fb_fill[df_fb_fill['Age'] == 25]\n",
    "X_fb_fill = df_fb_fill_25[['Pclass', 'Sex', 'Embarked']]\n",
    "y_fb_fill = df_fb_fill_25['Survived']\n",
    "X_fb_fill.loc[:, 'Sex'] = X_fb_fill['Sex'].map({'male': 0, 'female': 1})\n",
    "X_fb_fill.loc[:, 'Embarked'] = X_fb_fill['Embarked'].map({'S': 0, 'C': 1, 'Q': 2})\n",
    "X_fb_fill_train, X_fb_fill_test, y_fb_fill_train, y_fb_fill_test = train_test_split(X_fb_fill, y_fb_fill, test_size=0.2, random_state=42)\n",
    "model = LogisticRegression()\n",
    "model.fit(X_fb_fill_train, y_fb_fill_train)\n",
    "y_fb_fill_pred = model.predict(X_fb_fill_test)"
   ]
  },
  {
   "cell_type": "markdown",
   "id": "e686a7f9-976d-47f3-86b8-c6e8b07f5128",
   "metadata": {},
   "source": [
    "#### Задание 4. Произвести оценку обученности модели разными метриками ####\r\n",
    "accurac  y\r\n",
    "reca  ll\r\n",
    "Precis  ion\r\n",
    "F1-S  core core"
   ]
  },
  {
   "cell_type": "code",
   "execution_count": 44,
   "id": "bf985aec-1aa5-45e4-939b-d370d055e76a",
   "metadata": {},
   "outputs": [
    {
     "name": "stdout",
     "output_type": "stream",
     "text": [
      "Accuracy: 0.0\n"
     ]
    }
   ],
   "source": [
    "accuracy_del = accuracy_score(y_del_test, y_del_pred)\n",
    "print(f\"Accuracy: {accuracy_del}\")\n",
    "\n"
   ]
  },
  {
   "cell_type": "code",
   "execution_count": 45,
   "id": "1cc682ff-ca5e-4882-9e00-c12b3b4393f1",
   "metadata": {},
   "outputs": [
    {
     "name": "stdout",
     "output_type": "stream",
     "text": [
      "Accuracy: 0.8\n"
     ]
    }
   ],
   "source": [
    "accuracy_num = accuracy_score(y_num_test, y_num_pred)\n",
    "print(f\"Accuracy: {accuracy_num}\")"
   ]
  },
  {
   "cell_type": "code",
   "execution_count": 46,
   "id": "7400c374-9526-4030-a809-b887e8008307",
   "metadata": {},
   "outputs": [
    {
     "name": "stdout",
     "output_type": "stream",
     "text": [
      "Accuracy: 0.8\n"
     ]
    }
   ],
   "source": [
    "accuracy_mean = accuracy_score(y_mean_test, y_mean_pred)\n",
    "print(f\"Accuracy: {accuracy_mean}\")\n"
   ]
  },
  {
   "cell_type": "code",
   "execution_count": 47,
   "id": "5db596c2-f268-42fb-84d2-770db0433583",
   "metadata": {},
   "outputs": [
    {
     "name": "stdout",
     "output_type": "stream",
     "text": [
      "Accuracy: 0.8\n"
     ]
    }
   ],
   "source": [
    "accuracy_median = accuracy_score(y_median_test, y_median_pred)\n",
    "print(f\"Accuracy: {accuracy_median}\")"
   ]
  },
  {
   "cell_type": "code",
   "execution_count": 48,
   "id": "4cf67985-ce38-4c6c-adaf-18d1e150a90a",
   "metadata": {},
   "outputs": [
    {
     "name": "stdout",
     "output_type": "stream",
     "text": [
      "Accuracy: 0.8333333333333334\n"
     ]
    }
   ],
   "source": [
    "accuracy_fb_fill = accuracy_score(y_fb_fill_test, y_fb_fill_pred)\n",
    "print(f\"Accuracy: {accuracy_fb_fill}\")"
   ]
  },
  {
   "cell_type": "markdown",
   "id": "8ce4cd95-c09d-4166-8a1a-c2650ec8269a",
   "metadata": {},
   "source": [
    "#### Задание 5. Определить наиболее эффективную метрику\n"
   ]
  },
  {
   "cell_type": "code",
   "execution_count": 49,
   "id": "287a7f4e-23cd-4b1e-8bea-afac743bdf0f",
   "metadata": {},
   "outputs": [
    {
     "name": "stdout",
     "output_type": "stream",
     "text": [
      "Наиболее эффективная метрика: accuracy_fb_fill, со значением: 0.8333333333333334\n"
     ]
    }
   ],
   "source": [
    "max_value = max(accuracy_del, accuracy_num, accuracy_mean, accuracy_median, accuracy_fb_fill)\n",
    "max_variable = \"accuracy_fb_fill\" if max_value == accuracy_fb_fill else \\\n",
    "               \"accuracy_num\" if max_value == accuracy_num else \\\n",
    "               \"accuracy_mean\" if max_value == accuracy_mean else \\\n",
    "               \"accuracy_median\" if max_value == accuracy_median else \\\n",
    "               \"accuracy_del\"\n",
    "print(f\"Наиболее эффективная метрика: {max_variable}, со значением: {max_value}\")"
   ]
  },
  {
   "cell_type": "markdown",
   "id": "efc5d91d-5358-4f15-a423-14712fc62e58",
   "metadata": {},
   "source": [
    "#### Задание 6. Загрузить ваш dataset и произвести его описание\n"
   ]
  },
  {
   "cell_type": "markdown",
   "id": "76b7456b-b75b-4775-abcf-b01a5c9d6465",
   "metadata": {},
   "source": [
    "fixed acidity: Концентрация фиксированных кислот в вине, таких как винная, яблочная и лимонная кислоты.  \n",
    "volatile acidity: Концентрация летучих кислот в вине, таких как уксусная кислота.  \n",
    "citric acid: Концентрация лимонной кислоты в вине.  \n",
    "residual sugar: Количество сахара, оставшегося в вине после ферментации.  \n",
    "chlorides: Концентрация ионов хлора в вине.  \n",
    "free sulfur dioxide: Количество свободного диоксида серы, присутствующего в вине.  \n",
    "total sulfur dioxide: Общее количество диоксида серы, присутствующего в вине, включая как свободные, так и связанные формы.  \n",
    "density: Плотность вина.  \n",
    "pH: Уровень pH вина, который влияет на его вкус, стабильность и общее качество.  \n",
    "sulphates: Концентрация ионов сульфата в вине.  \n",
    "alcohol: Процент алкоголя, присутствующего в вине.  \n",
    "quality: Субъективная мера общего качества вина, вероятно, основанная на комбинации других метрик.  \n"
   ]
  },
  {
   "cell_type": "code",
   "execution_count": 50,
   "id": "c938ba98-c99f-4765-8664-f02042974340",
   "metadata": {},
   "outputs": [
    {
     "data": {
      "text/html": [
       "<div>\n",
       "<style scoped>\n",
       "    .dataframe tbody tr th:only-of-type {\n",
       "        vertical-align: middle;\n",
       "    }\n",
       "\n",
       "    .dataframe tbody tr th {\n",
       "        vertical-align: top;\n",
       "    }\n",
       "\n",
       "    .dataframe thead th {\n",
       "        text-align: right;\n",
       "    }\n",
       "</style>\n",
       "<table border=\"1\" class=\"dataframe\">\n",
       "  <thead>\n",
       "    <tr style=\"text-align: right;\">\n",
       "      <th></th>\n",
       "      <th>fixed acidity</th>\n",
       "      <th>volatile acidity</th>\n",
       "      <th>citric acid</th>\n",
       "      <th>residual sugar</th>\n",
       "      <th>chlorides</th>\n",
       "      <th>free sulfur dioxide</th>\n",
       "      <th>total sulfur dioxide</th>\n",
       "      <th>density</th>\n",
       "      <th>pH</th>\n",
       "      <th>sulphates</th>\n",
       "      <th>alcohol</th>\n",
       "      <th>quality</th>\n",
       "    </tr>\n",
       "  </thead>\n",
       "  <tbody>\n",
       "    <tr>\n",
       "      <th>0</th>\n",
       "      <td>7.4</td>\n",
       "      <td>0.70</td>\n",
       "      <td>0.00</td>\n",
       "      <td>1.9</td>\n",
       "      <td>0.076</td>\n",
       "      <td>11.0</td>\n",
       "      <td>34.0</td>\n",
       "      <td>0.9978</td>\n",
       "      <td>3.51</td>\n",
       "      <td>0.56</td>\n",
       "      <td>9.4</td>\n",
       "      <td>5</td>\n",
       "    </tr>\n",
       "    <tr>\n",
       "      <th>1</th>\n",
       "      <td>7.8</td>\n",
       "      <td>0.88</td>\n",
       "      <td>0.00</td>\n",
       "      <td>2.6</td>\n",
       "      <td>0.098</td>\n",
       "      <td>25.0</td>\n",
       "      <td>67.0</td>\n",
       "      <td>0.9968</td>\n",
       "      <td>3.20</td>\n",
       "      <td>0.68</td>\n",
       "      <td>9.8</td>\n",
       "      <td>5</td>\n",
       "    </tr>\n",
       "    <tr>\n",
       "      <th>2</th>\n",
       "      <td>7.8</td>\n",
       "      <td>0.76</td>\n",
       "      <td>0.04</td>\n",
       "      <td>2.3</td>\n",
       "      <td>0.092</td>\n",
       "      <td>15.0</td>\n",
       "      <td>54.0</td>\n",
       "      <td>0.9970</td>\n",
       "      <td>3.26</td>\n",
       "      <td>0.65</td>\n",
       "      <td>9.8</td>\n",
       "      <td>5</td>\n",
       "    </tr>\n",
       "    <tr>\n",
       "      <th>3</th>\n",
       "      <td>11.2</td>\n",
       "      <td>0.28</td>\n",
       "      <td>0.56</td>\n",
       "      <td>1.9</td>\n",
       "      <td>0.075</td>\n",
       "      <td>17.0</td>\n",
       "      <td>60.0</td>\n",
       "      <td>0.9980</td>\n",
       "      <td>3.16</td>\n",
       "      <td>0.58</td>\n",
       "      <td>9.8</td>\n",
       "      <td>6</td>\n",
       "    </tr>\n",
       "    <tr>\n",
       "      <th>4</th>\n",
       "      <td>7.4</td>\n",
       "      <td>0.70</td>\n",
       "      <td>0.00</td>\n",
       "      <td>1.9</td>\n",
       "      <td>0.076</td>\n",
       "      <td>11.0</td>\n",
       "      <td>34.0</td>\n",
       "      <td>0.9978</td>\n",
       "      <td>3.51</td>\n",
       "      <td>0.56</td>\n",
       "      <td>9.4</td>\n",
       "      <td>5</td>\n",
       "    </tr>\n",
       "  </tbody>\n",
       "</table>\n",
       "</div>"
      ],
      "text/plain": [
       "   fixed acidity  volatile acidity  citric acid  residual sugar  chlorides  \\\n",
       "0            7.4              0.70         0.00             1.9      0.076   \n",
       "1            7.8              0.88         0.00             2.6      0.098   \n",
       "2            7.8              0.76         0.04             2.3      0.092   \n",
       "3           11.2              0.28         0.56             1.9      0.075   \n",
       "4            7.4              0.70         0.00             1.9      0.076   \n",
       "\n",
       "   free sulfur dioxide  total sulfur dioxide  density    pH  sulphates  \\\n",
       "0                 11.0                  34.0   0.9978  3.51       0.56   \n",
       "1                 25.0                  67.0   0.9968  3.20       0.68   \n",
       "2                 15.0                  54.0   0.9970  3.26       0.65   \n",
       "3                 17.0                  60.0   0.9980  3.16       0.58   \n",
       "4                 11.0                  34.0   0.9978  3.51       0.56   \n",
       "\n",
       "   alcohol  quality  \n",
       "0      9.4        5  \n",
       "1      9.8        5  \n",
       "2      9.8        5  \n",
       "3      9.8        6  \n",
       "4      9.4        5  "
      ]
     },
     "execution_count": 50,
     "metadata": {},
     "output_type": "execute_result"
    }
   ],
   "source": [
    "mydf = pd.read_csv('winequality-red.csv', sep = ',')\n",
    "mydf.head()"
   ]
  },
  {
   "cell_type": "markdown",
   "id": "4f19c560-8826-4d72-89f2-89b85204a687",
   "metadata": {},
   "source": [
    "#### Задание 7. Произвести предобработку вашего dataset и сохранить результаты каждый в отдельный датафрейм\n"
   ]
  },
  {
   "cell_type": "code",
   "execution_count": 51,
   "id": "f6293cfc-6562-449f-88f8-52949af8af92",
   "metadata": {},
   "outputs": [],
   "source": [
    "mydf_del = mydf.dropna()\n",
    "\n",
    "mydf_num = mydf.fillna(20)\n",
    "\n",
    "mydf_means = mydf.fillna(mydf.mean())\n",
    "\n",
    "mydf_medians = mydf.fillna(mydf.median())\n",
    "\n",
    "mydf_fb_fill = mydf.ffill()\n",
    "    "
   ]
  },
  {
   "cell_type": "markdown",
   "id": "da3cadc3-83b4-4bc1-a115-52f156c139cc",
   "metadata": {},
   "source": [
    "#### Задание 8. Приметить к каждому датафрейму алгоритм линейной регресси\n"
   ]
  },
  {
   "cell_type": "code",
   "execution_count": 54,
   "id": "f89ffacc-9ad0-4905-921c-8113dddc6857",
   "metadata": {},
   "outputs": [
    {
     "name": "stdout",
     "output_type": "stream",
     "text": [
      "Accuracy: 0.74375\n",
      "Classification Report:\n",
      "              precision    recall  f1-score   support\n",
      "\n",
      "           0       0.68      0.75      0.72       141\n",
      "           1       0.79      0.73      0.76       179\n",
      "\n",
      "    accuracy                           0.74       320\n",
      "   macro avg       0.74      0.74      0.74       320\n",
      "weighted avg       0.74      0.74      0.74       320\n",
      "\n"
     ]
    }
   ],
   "source": [
    "X = mydf_del.drop(['quality'], axis=1)  \n",
    "y = mydf_del['quality'].apply(lambda x: 1 if x > 5 else 0)  \n",
    "\n",
    "X_train, X_test, y_train, y_test = train_test_split(X, y, test_size=0.2, random_state=42)\n",
    "\n",
    "log_reg = LogisticRegression(max_iter=1000)\n",
    "\n",
    "log_reg.fit(X_train, y_train)\n",
    "\n",
    "y_pred = log_reg.predict(X_test)\n",
    "\n",
    "accuracy_mydf_del = accuracy_score(y_test, y_pred)\n",
    "print(\"Accuracy:\", accuracy)\n",
    "print(\"Classification Report:\")\n",
    "print(classification_report(y_test, y_pred))\n"
   ]
  },
  {
   "cell_type": "code",
   "execution_count": 55,
   "id": "82499052-db83-4396-b120-5b64be70dce5",
   "metadata": {},
   "outputs": [
    {
     "name": "stdout",
     "output_type": "stream",
     "text": [
      "Accuracy: 0.74375\n",
      "Classification Report:\n",
      "              precision    recall  f1-score   support\n",
      "\n",
      "           0       0.68      0.75      0.72       141\n",
      "           1       0.79      0.73      0.76       179\n",
      "\n",
      "    accuracy                           0.74       320\n",
      "   macro avg       0.74      0.74      0.74       320\n",
      "weighted avg       0.74      0.74      0.74       320\n",
      "\n"
     ]
    }
   ],
   "source": [
    "X = mydf_num.drop(['quality'], axis=1)\n",
    "y = mydf_num['quality'].apply(lambda x: 1 if x > 5 else 0)\n",
    "\n",
    "X_train, X_test, y_train, y_test = train_test_split(X, y, test_size=0.2, random_state=42)\n",
    "\n",
    "log_reg = LogisticRegression(max_iter=1000)\n",
    "\n",
    "log_reg.fit(X_train, y_train)\n",
    "\n",
    "y_pred = log_reg.predict(X_test)\n",
    "\n",
    "accuracy_mydf_num = accuracy_score(y_test, y_pred)\n",
    "print(\"Accuracy:\", accuracy)\n",
    "print(\"Classification Report:\")\n",
    "print(classification_report(y_test, y_pred))\n"
   ]
  },
  {
   "cell_type": "code",
   "execution_count": 56,
   "id": "5048ff98-fc0d-451f-828b-68b127305a0f",
   "metadata": {},
   "outputs": [
    {
     "name": "stdout",
     "output_type": "stream",
     "text": [
      "Accuracy: 0.74375\n",
      "Classification Report:\n",
      "              precision    recall  f1-score   support\n",
      "\n",
      "           0       0.68      0.75      0.72       141\n",
      "           1       0.79      0.73      0.76       179\n",
      "\n",
      "    accuracy                           0.74       320\n",
      "   macro avg       0.74      0.74      0.74       320\n",
      "weighted avg       0.74      0.74      0.74       320\n",
      "\n"
     ]
    }
   ],
   "source": [
    "X = mydf_means.drop(['quality'], axis=1)\n",
    "y = mydf_means['quality'].apply(lambda x: 1 if x > 5 else 0)\n",
    "\n",
    "X_train, X_test, y_train, y_test = train_test_split(X, y, test_size=0.2, random_state=42)\n",
    "\n",
    "log_reg = LogisticRegression(max_iter=1000)\n",
    "\n",
    "log_reg.fit(X_train, y_train)\n",
    "\n",
    "y_pred = log_reg.predict(X_test)\n",
    "\n",
    "accuracy_mydf_means = accuracy_score(y_test, y_pred)\n",
    "print(\"Accuracy:\", accuracy)\n",
    "print(\"Classification Report:\")\n",
    "print(classification_report(y_test, y_pred))\n"
   ]
  },
  {
   "cell_type": "code",
   "execution_count": 57,
   "id": "9446cc13-3a6b-4b41-9380-33b69b337f9a",
   "metadata": {},
   "outputs": [
    {
     "name": "stdout",
     "output_type": "stream",
     "text": [
      "Accuracy: 0.74375\n",
      "Classification Report:\n",
      "              precision    recall  f1-score   support\n",
      "\n",
      "           0       0.68      0.75      0.72       141\n",
      "           1       0.79      0.73      0.76       179\n",
      "\n",
      "    accuracy                           0.74       320\n",
      "   macro avg       0.74      0.74      0.74       320\n",
      "weighted avg       0.74      0.74      0.74       320\n",
      "\n"
     ]
    }
   ],
   "source": [
    "X = mydf_medians.drop(['quality'], axis=1)\n",
    "y = mydf_medians['quality'].apply(lambda x: 1 if x > 5 else 0)\n",
    "\n",
    "X_train, X_test, y_train, y_test = train_test_split(X, y, test_size=0.2, random_state=42)\n",
    "\n",
    "log_reg = LogisticRegression(max_iter=1000)\n",
    "\n",
    "log_reg.fit(X_train, y_train)\n",
    "\n",
    "y_pred = log_reg.predict(X_test)\n",
    "\n",
    "accuracy_mydf_medians = accuracy_score(y_test, y_pred)\n",
    "print(\"Accuracy:\", accuracy)\n",
    "print(\"Classification Report:\")\n",
    "print(classification_report(y_test, y_pred))"
   ]
  },
  {
   "cell_type": "code",
   "execution_count": 58,
   "id": "455aed0d-92d3-4194-b90a-e92de41e5f00",
   "metadata": {},
   "outputs": [
    {
     "name": "stdout",
     "output_type": "stream",
     "text": [
      "Accuracy: 0.74375\n",
      "Classification Report:\n",
      "              precision    recall  f1-score   support\n",
      "\n",
      "           0       0.68      0.75      0.72       141\n",
      "           1       0.79      0.73      0.76       179\n",
      "\n",
      "    accuracy                           0.74       320\n",
      "   macro avg       0.74      0.74      0.74       320\n",
      "weighted avg       0.74      0.74      0.74       320\n",
      "\n"
     ]
    }
   ],
   "source": [
    "X = mydf_fb_fill.drop(['quality'], axis=1)\n",
    "y = mydf_fb_fill['quality'].apply(lambda x: 1 if x > 5 else 0)\n",
    "\n",
    "X_train, X_test, y_train, y_test = train_test_split(X, y, test_size=0.2, random_state=42)\n",
    "\n",
    "log_reg = LogisticRegression(max_iter=1000)\n",
    "\n",
    "log_reg.fit(X_train, y_train)\n",
    "\n",
    "y_pred = log_reg.predict(X_test)\n",
    "\n",
    "accuracy_mydf_fb_fill = accuracy_score(y_test, y_pred)\n",
    "print(\"Accuracy:\", accuracy)\n",
    "print(\"Classification Report:\")\n",
    "print(classification_report(y_test, y_pred))"
   ]
  },
  {
   "cell_type": "markdown",
   "id": "e57dfd02-2afc-4100-8a53-4274b270b973",
   "metadata": {},
   "source": [
    "#### Задание 10. Определить наиболее эффективную метрику\r\n"
   ]
  },
  {
   "cell_type": "code",
   "execution_count": 59,
   "id": "a5464382-4442-40ad-919e-d26fe21f5f2b",
   "metadata": {},
   "outputs": [
    {
     "name": "stdout",
     "output_type": "stream",
     "text": [
      "Наиболее эффективная метрика: accuracy_mydf_fb_fill, со значением: 0.7375\n"
     ]
    }
   ],
   "source": [
    "max_mydf_value = max(accuracy_mydf_del, accuracy_mydf_num, accuracy_mydf_means, accuracy_mydf_medians, accuracy_mydf_fb_fill)\n",
    "\n",
    "max_mydf_variable = \"accuracy_mydf_fb_fill\" if max_mydf_value == accuracy_mydf_fb_fill else \\\n",
    "               \"accuracy_mydf_num\" if max_mydf_value == accuracy_mydf_num else \\\n",
    "               \"accuracy_mydf_means\" if max_mydf_value == accuracy_mydf_means else \\\n",
    "               \"accuracy_mydf_medians\" if max_mydf_value == accuracy_mydf_medians else \\\n",
    "               \"accuracy_mydf_del\"\n",
    "\n",
    "print(f\"Наиболее эффективная метрика: {max_mydf_variable}, со значением: {max_mydf_value}\")\n"
   ]
  },
  {
   "cell_type": "code",
   "execution_count": null,
   "id": "665652eb-d7e7-4377-97e1-24262a4338a5",
   "metadata": {},
   "outputs": [],
   "source": []
  }
 ],
 "metadata": {
  "kernelspec": {
   "display_name": "Python 3 (ipykernel)",
   "language": "python",
   "name": "python3"
  },
  "language_info": {
   "codemirror_mode": {
    "name": "ipython",
    "version": 3
   },
   "file_extension": ".py",
   "mimetype": "text/x-python",
   "name": "python",
   "nbconvert_exporter": "python",
   "pygments_lexer": "ipython3",
   "version": "3.11.7"
  }
 },
 "nbformat": 4,
 "nbformat_minor": 5
}
